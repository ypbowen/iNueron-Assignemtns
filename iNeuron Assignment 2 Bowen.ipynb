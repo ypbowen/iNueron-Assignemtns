{
 "cells": [
  {
   "cell_type": "code",
   "execution_count": 2,
   "metadata": {},
   "outputs": [],
   "source": [
    "#1.What are the two values of the Boolean data type? How do you write them?\n",
    "#True, False ( must have  capital \"T\" and \"F\")\n"
   ]
  },
  {
   "cell_type": "code",
   "execution_count": 3,
   "metadata": {},
   "outputs": [],
   "source": [
    "#2. What are the three different types of Boolean operators?- \"and\", \"or\",\"not\".   They help \n",
    "#to make more focused and productive results\n"
   ]
  },
  {
   "cell_type": "code",
   "execution_count": 4,
   "metadata": {},
   "outputs": [],
   "source": [
    "#3. Make a list of each Boolean operator's truth tables (i.e. every possible combination of Boolean \n",
    "#values for the operator and what it evaluate ).\n",
    "\n",
    "#While performing Boolean logic, the expression on the left is evaluated, followed by the expression on the right.\n",
    "\n",
    "0== \"False\"    1==\"True\"\n",
    "\n",
    "\n",
    "\"and \"condition                              \"or\"condition                  \"not\"    condition\n",
    "\n",
    "0     0       0                              0      0      0                    1     0\n",
    "\n",
    "0     1       0                              1      0      1                    0     1\n",
    "\n",
    "1      0      0                              0      1      1\n",
    " \n",
    "1      1      1                              1       1     1\n",
    "\n"
   ]
  },
  {
   "cell_type": "code",
   "execution_count": 6,
   "metadata": {},
   "outputs": [],
   "source": [
    "#4. What are the values of the following expressions?\n",
    "\n",
    "# (5>4)and (3==5)                       T   F    F\n",
    "#not (5 > 4)                            T        F\n",
    "#(5 > 4) or (3 == 5)                    T   F    T\n",
    "#not ((5> 4) or (3 == 5))               T        F\n",
    "#(True and True) and (True == False)    T   F    F\n",
    "#(not False) or (not True)              T   F    T\n"
   ]
  },
  {
   "cell_type": "code",
   "execution_count": null,
   "metadata": {},
   "outputs": [],
   "source": [
    "#5. What are the six comparison operators?\n",
    "\n",
    "#<, >, =, <=,>=, !="
   ]
  },
  {
   "cell_type": "code",
   "execution_count": 14,
   "metadata": {},
   "outputs": [],
   "source": [
    "#6. How do you tell the difference between the equal to and assignment operators?\n",
    "#Describe a condition and when you would use one.\n",
    "\n",
    "\n",
    "#When you want to assign a value to a variable you use “=”  assignment operator. Your variable is on the left and \n",
    "#you assign a value on the right. Ex: a=56\n",
    "#If you want to check if two given operands are equal, you use “==” operator. \n",
    "#Ex: a==78,  we are trying to see if two variables point to the same object in memory. In this case if two\n",
    "#operands are equal, it will return true; if not- it will return false. \n",
    "\n"
   ]
  },
  {
   "cell_type": "code",
   "execution_count": 36,
   "metadata": {},
   "outputs": [
    {
     "name": "stdout",
     "output_type": "stream",
     "text": [
      "spam\n",
      "spam\n"
     ]
    }
   ],
   "source": [
    "#7. Identify the three blocks in this code:\n",
    "spam = 0                                     \n",
    "if spam == 10:                                                 \n",
    "    print('eggs')           #Block 1\n",
    "    if spam > 5:             # Block 1, we are still on the same indent\n",
    "        print('bacon')       #Block 2, new indent\n",
    "    else:                     \n",
    "        print('ham')          # Block 3\n",
    "    print('spam')              #Block1\n",
    "print('spam')\n",
    "    \n"
   ]
  },
  {
   "cell_type": "code",
   "execution_count": 42,
   "metadata": {},
   "outputs": [
    {
     "name": "stdout",
     "output_type": "stream",
     "text": [
      "45\n",
      "Greetings\n"
     ]
    }
   ],
   "source": [
    "#8. Write code that prints Hello if 1 is stored in spam, prints Howdy if 2 is stored in spam, and prints Greetings! \n",
    "#if anything else is stored in spam.\n",
    "\n",
    "spam= int(input())\n",
    "if spam==1:\n",
    "    print(\"Hello\")\n",
    "    if spam==2:\n",
    "        print(\"Hawdy\")\n",
    "else:\n",
    "    print(\"Greetings\")"
   ]
  },
  {
   "cell_type": "code",
   "execution_count": 17,
   "metadata": {},
   "outputs": [],
   "source": [
    "#9.If your program is stuck in an endless loop, what keys you’ll press? --------------Kernel>>> Interrupt or Esc+I=I\n"
   ]
  },
  {
   "cell_type": "code",
   "execution_count": 43,
   "metadata": {},
   "outputs": [
    {
     "name": "stdout",
     "output_type": "stream",
     "text": [
      "y\n",
      "u\n",
      "cool\n"
     ]
    }
   ],
   "source": [
    "#10. How can you tell the difference between break and continue?\n",
    "\n",
    "#Both statements will change the direction of the loop.\n",
    "#Loop checks the block of code until the expression will be false. If we want to terminate or change the\n",
    "#repetition of the loop for any reason, we can use ‘break” or “continue”. \n",
    "\n",
    " #If we want to terminate the loop, we use “break”. If break is located inside a nested loop, \n",
    "#it will break that nested loop.\n",
    "#If we want to skip the code inside the loop for current iteration, we use “continue”. \n",
    "#Continue statement will not break the loop, it will continue with next repetition. \n",
    "\n",
    "#So, if I want to skip letter “l “in my name: “yuliya”, I will use “continue statement.\n",
    "#If I want to print only “yul” in my name I will use “break” statement.\n",
    "\n",
    "for a in \"yuliya\":\n",
    "    if a == \"l\":\n",
    "        break\n",
    "    print(a)\n",
    "\n",
    "print(\"cool\")\n"
   ]
  },
  {
   "cell_type": "code",
   "execution_count": 45,
   "metadata": {},
   "outputs": [
    {
     "name": "stdout",
     "output_type": "stream",
     "text": [
      "y\n",
      "u\n",
      "i\n",
      "y\n",
      "a\n",
      "super cool\n"
     ]
    }
   ],
   "source": [
    "# 10 continued\n",
    "for a in \"yuliya\":\n",
    "    if a == \"l\":\n",
    "        continue\n",
    "    print(a)\n",
    "\n",
    "print(\"super cool\")"
   ]
  },
  {
   "cell_type": "code",
   "execution_count": 4,
   "metadata": {},
   "outputs": [
    {
     "name": "stdout",
     "output_type": "stream",
     "text": [
      "0123456789\n",
      "0123456789\n",
      "0 1 2 3 4 5 6 7 8 9 \n",
      "01234\n",
      "67891011\n",
      "2 4 6 8 10 12 14 \n"
     ]
    }
   ],
   "source": [
    "#11. In a for loop, what is the difference between range(10), range(0, 10), and range(0, 10, 1)?\n",
    "\n",
    "#range(10) will stop printing at upper bound, 10 will not be printed\n",
    "#range (0,10) here we indicate the beginning of the range and the end. It will start with o and stop at 9\n",
    "#range(0,10,1) here we indicate the steps as well. It will print by 0 through 9 in one step increment \n",
    "\n",
    "for i in range (10):\n",
    "    print(i, end=\"\")\n",
    "print()\n",
    "    \n",
    "    \n",
    "for i in range( 0,10):\n",
    "    print(i, end=\"\")\n",
    "print()\n",
    "    \n",
    "for i in range( 0,10,1):\n",
    "    print(i,end=\" \")\n",
    "print()\n",
    "\n",
    "\n",
    "\n",
    "# you can use different values \n",
    "\n",
    "for i in range (5):\n",
    "    print(i, end=\"\")\n",
    "print()\n",
    "    \n",
    "    \n",
    "for i in range( 6,12):\n",
    "    print(i, end=\"\")\n",
    "print()\n",
    "    \n",
    "for i in range( 2,16,2):\n",
    "    print(i,end=\" \")\n",
    "print()"
   ]
  },
  {
   "cell_type": "code",
   "execution_count": 20,
   "metadata": {},
   "outputs": [],
   "source": [
    "#12. Write a short program that prints the numbers 1 to 10 using a for loop. Then write an equivalent program that \n",
    "#prints the numbers 1 to 10 using a while loop.\n"
   ]
  },
  {
   "cell_type": "code",
   "execution_count": 27,
   "metadata": {},
   "outputs": [
    {
     "name": "stdout",
     "output_type": "stream",
     "text": [
      "0\n",
      "1\n",
      "2\n",
      "3\n",
      "4\n",
      "5\n",
      "6\n",
      "7\n",
      "8\n",
      "9\n",
      "10\n"
     ]
    }
   ],
   "source": [
    "for i in range(0,11):\n",
    "    print(i)"
   ]
  },
  {
   "cell_type": "code",
   "execution_count": 26,
   "metadata": {},
   "outputs": [
    {
     "name": "stdout",
     "output_type": "stream",
     "text": [
      "0\n",
      "1\n",
      "2\n",
      "3\n",
      "4\n",
      "5\n",
      "6\n",
      "7\n",
      "8\n",
      "9\n",
      "10\n"
     ]
    }
   ],
   "source": [
    "i=0\n",
    "j=15\n",
    "count=1\n",
    "while i<j:\n",
    "    print(i)\n",
    "    i=i+1\n",
    "    count= count+1\n",
    "    if count==12:\n",
    "        break"
   ]
  },
  {
   "cell_type": "code",
   "execution_count": null,
   "metadata": {},
   "outputs": [],
   "source": [
    "#13. If you had a function named bacon() inside a module named spam, how would you call it after importing spam?\n",
    "from spam import bacon*\n",
    "    \n",
    " #or\n",
    "spam.bacon()"
   ]
  },
  {
   "cell_type": "code",
   "execution_count": null,
   "metadata": {},
   "outputs": [],
   "source": []
  }
 ],
 "metadata": {
  "kernelspec": {
   "display_name": "Python 3",
   "language": "python",
   "name": "python3"
  },
  "language_info": {
   "codemirror_mode": {
    "name": "ipython",
    "version": 3
   },
   "file_extension": ".py",
   "mimetype": "text/x-python",
   "name": "python",
   "nbconvert_exporter": "python",
   "pygments_lexer": "ipython3",
   "version": "3.8.5"
  }
 },
 "nbformat": 4,
 "nbformat_minor": 4
}
