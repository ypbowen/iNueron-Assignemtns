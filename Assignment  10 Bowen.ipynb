{
 "cells": [
  {
   "cell_type": "code",
   "execution_count": null,
   "metadata": {},
   "outputs": [],
   "source": [
    "1.How do you distinguish between shutil.copy() and shutil.copytree()?>>>\n",
    "shuyil.copy() calls copies the file to the folder,  shutil.copytree() will copy\n",
    "an entire folder  all the  folders and files contained inside that folder. \n",
    "It will also create a new folder with the original folder and files inside.\n",
    "\n",
    "\n",
    "\n",
    "\n",
    "2. What function is used to rename files??>>> You can use rename() function.\n",
    "If working with shutil,  to rename the file you need to use shutil.move('E:\\\\test1.txt', 'E:\\\\ineuron\\\\test2txt') \n",
    "\n",
    "\n",
    "\n",
    "3. What is the difference between the delete functions in the send2trash and shutil modules?>>>\n",
    "Send2trash will not permanently delete the file, it will send it to recycling bin instead.\n",
    "Shutil modules will delete files for good.\n",
    " \n",
    "4.ZipFile objects have a close() method just like File objects’ close() method.\n",
    "What ZipFile method is equivalent to File objects’ open() method?>>> \n",
    "The  ZipFile() function is equivalent to the open() function;  it opens file in read write or append mode \n",
    "\n",
    "\n",
    "\n",
    "5. Create a programme that searches a folder tree for files with a certain file extension (such as .pdf or .jpg). \n",
    "Copy these files from whatever location they are in to a new folder.>>>\n",
    "\n",
    "import glob\n",
    "glob.glob('./*.txt')\n",
    "\n"
   ]
  },
  {
   "cell_type": "code",
   "execution_count": null,
   "metadata": {},
   "outputs": [],
   "source": [
    "import glob\n",
    "glob.glob('./*.txt')"
   ]
  },
  {
   "cell_type": "code",
   "execution_count": 1,
   "metadata": {},
   "outputs": [
    {
     "name": "stdout",
     "output_type": "stream",
     "text": [
      "Moved: C:\\Users\\ypbow\\Desktop\\iNeuron ipynb My Files\\tes.txt\n",
      "Moved: C:\\Users\\ypbow\\Desktop\\iNeuron ipynb My Files\\tes1.txt\n",
      "Moved: C:\\Users\\ypbow\\Desktop\\iNeuron ipynb My Files\\tes2.txt\n",
      "Moved: C:\\Users\\ypbow\\Desktop\\iNeuron ipynb My Files\\test2.txt\n",
      "Moved: C:\\Users\\ypbow\\Desktop\\iNeuron ipynb My Files\\test5.txt\n",
      "Moved: C:\\Users\\ypbow\\Desktop\\iNeuron ipynb My Files\\xyz.txt\n"
     ]
    }
   ],
   "source": [
    "import glob\n",
    "import os\n",
    "import shutil\n",
    "\n",
    "src_folder = r\"C:\\Users\\ypbow\\Desktop\\iNeuron ipynb My Files\"\n",
    "dst_folder = r\"C:\\Users\\ypbow\\Desktop\\NF1\"\n",
    "\n",
    "# Search files with .txt extension in source directory\n",
    "pattern = \"\\*.txt\"\n",
    "files = glob.glob(src_folder + pattern)\n",
    "\n",
    "# move the files with txt extension\n",
    "for file in files:\n",
    "    # extract file name form file path\n",
    "    file_name = os.path.basename(file)\n",
    "    shutil.move(file, dst_folder + file_name)\n",
    "    print('Moved:', file)\n",
    "\n",
    "\n",
    "\n"
   ]
  },
  {
   "cell_type": "code",
   "execution_count": null,
   "metadata": {},
   "outputs": [],
   "source": []
  }
 ],
 "metadata": {
  "kernelspec": {
   "display_name": "Python 3",
   "language": "python",
   "name": "python3"
  },
  "language_info": {
   "codemirror_mode": {
    "name": "ipython",
    "version": 3
   },
   "file_extension": ".py",
   "mimetype": "text/x-python",
   "name": "python",
   "nbconvert_exporter": "python",
   "pygments_lexer": "ipython3",
   "version": "3.8.5"
  }
 },
 "nbformat": 4,
 "nbformat_minor": 4
}
